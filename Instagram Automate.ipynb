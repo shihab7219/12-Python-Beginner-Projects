{
 "cells": [
  {
   "cell_type": "code",
   "execution_count": null,
   "id": "72a3cb7b",
   "metadata": {},
   "outputs": [],
   "source": [
    "!pip install instabot"
   ]
  },
  {
   "cell_type": "code",
   "execution_count": null,
   "id": "7d3ea2e8",
   "metadata": {},
   "outputs": [],
   "source": [
    "from instabot import Bot\n",
    "bot = Bot()"
   ]
  },
  {
   "cell_type": "code",
   "execution_count": null,
   "id": "ba15d4e9",
   "metadata": {},
   "outputs": [],
   "source": [
    "def instaLoging(self,user_name,password):\n",
    "\n",
    "    try:\n",
    "        bot.login(username=user_name,password=password)\n",
    "        print(\"Login Successfull\")\n",
    "\n",
    "    except Exception as e:\n",
    "        print(e)\n",
    "def doFollow(f):\n",
    "    try:\n",
    "        bot.follow(f)\n",
    "        print(\"Following Done----->\")\n",
    "\n",
    "    if __name__ ==\"__main__\":\n",
    "\n",
    "        user_name = input(\"Enter Your Instagram UserName Here : \")\n",
    "        password = input(\"Enter Your Instagram Password Here : \")\n",
    "\n",
    "        instaLoging(user_name,password)\n",
    "        \n",
    "        following_username = input(\"Enter the user name of the following id : \")\n",
    "        doFollow(following_username)\n",
    "    "
   ]
  },
  {
   "cell_type": "code",
   "execution_count": null,
   "id": "df0aec80",
   "metadata": {},
   "outputs": [],
   "source": [
    "bot#Upload Picture\n",
    "\n",
    "image_path = input(\"Place your image path here : \")\n",
    "bot.upload_photo(image_path,caption = \"Enter Your Caption here : \")"
   ]
  },
  {
   "cell_type": "code",
   "execution_count": null,
   "id": "ac208b60",
   "metadata": {},
   "outputs": [],
   "source": [
    "#Unfollow\n",
    "unfollowing_username = input(\"Enter the user name of the unfollowing id : \")\n",
    "bot.unfollow(unfollowing_username)\n"
   ]
  },
  {
   "cell_type": "code",
   "execution_count": null,
   "id": "b2c1d599",
   "metadata": {},
   "outputs": [],
   "source": [
    "#Send message\n",
    "message = input(\"Enter Your Message : \")\n",
    "messaged_person_usernames = input(\"Enter messaged persons usernames , Please separate with space : \")\n",
    "messaged_person_usernames = messaged_person_usernames.split(\" \")\n",
    "\n",
    "bot.send_message(message,messaged_person_usernames)"
   ]
  },
  {
   "cell_type": "code",
   "execution_count": null,
   "id": "00d0c69b",
   "metadata": {},
   "outputs": [],
   "source": []
  },
  {
   "cell_type": "code",
   "execution_count": null,
   "id": "4d8914fb",
   "metadata": {},
   "outputs": [],
   "source": [
    "#Get followers info\n",
    "\n",
    "followers = bot.get_user_followers(\"username\")\n",
    "\n",
    "for follower in followers:\n",
    "    print(bot.get_user_info(follower))"
   ]
  },
  {
   "cell_type": "code",
   "execution_count": null,
   "id": "a4ce48c3",
   "metadata": {},
   "outputs": [],
   "source": [
    "#Get following user info\n",
    "\n",
    "following = bot.get_user_following(\"username\")\n",
    "\n",
    "for Following in following:\n",
    "    print(bot.get_user_info(Following))"
   ]
  },
  {
   "cell_type": "code",
   "execution_count": null,
   "id": "207e2d83",
   "metadata": {},
   "outputs": [],
   "source": []
  }
 ],
 "metadata": {
  "kernelspec": {
   "display_name": "Python 3 (ipykernel)",
   "language": "python",
   "name": "python3"
  },
  "language_info": {
   "codemirror_mode": {
    "name": "ipython",
    "version": 3
   },
   "file_extension": ".py",
   "mimetype": "text/x-python",
   "name": "python",
   "nbconvert_exporter": "python",
   "pygments_lexer": "ipython3",
   "version": "3.10.4"
  }
 },
 "nbformat": 4,
 "nbformat_minor": 5
}
