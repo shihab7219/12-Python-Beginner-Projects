{
 "cells": [
  {
   "cell_type": "code",
   "execution_count": 1,
   "id": "74b5d06d",
   "metadata": {},
   "outputs": [
    {
     "name": "stdout",
     "output_type": "stream",
     "text": [
      "Collecting phonenumbers\n",
      "  Downloading phonenumbers-8.12.52-py2.py3-none-any.whl (2.6 MB)\n",
      "\u001b[K     |████████████████████████████████| 2.6 MB 1.2 MB/s eta 0:00:01\n",
      "\u001b[?25hInstalling collected packages: phonenumbers\n",
      "Successfully installed phonenumbers-8.12.52\n"
     ]
    }
   ],
   "source": [
    "!pip install phonenumbers"
   ]
  },
  {
   "cell_type": "code",
   "execution_count": 10,
   "id": "9a91f573",
   "metadata": {},
   "outputs": [],
   "source": [
    "import phonenumbers\n",
    "from phonenumbers import timezone,COUNTRY_CODE_TO_REGION_CODE,geocoder,carrier,data"
   ]
  },
  {
   "cell_type": "code",
   "execution_count": 15,
   "id": "b1338331",
   "metadata": {},
   "outputs": [
    {
     "name": "stdout",
     "output_type": "stream",
     "text": [
      "Enter your phone number with cuntry code = +880 : +8801748429997\n",
      "Country Code: 880 National Number: 1748429997\n",
      "('Asia/Dhaka',)\n",
      "Grameenphone\n",
      "Bangladesh\n"
     ]
    }
   ],
   "source": [
    "inputeNumber = input(\"Enter your phone number with cuntry code = +880 : \")\n",
    "\n",
    "phone = phonenumbers.parse(inputeNumber)\n",
    "\n",
    "time = timezone.time_zones_for_number(phone)\n",
    "carriers = carrier.name_for_number(phone,\"en\")\n",
    "reg = geocoder.description_for_number(phone,\"en\")\n",
    "\n",
    "print(phone)\n",
    "print(time)\n",
    "print(carriers)\n",
    "print(reg)\n"
   ]
  },
  {
   "cell_type": "code",
   "execution_count": null,
   "id": "0253552c",
   "metadata": {},
   "outputs": [],
   "source": []
  }
 ],
 "metadata": {
  "kernelspec": {
   "display_name": "Python 3 (ipykernel)",
   "language": "python",
   "name": "python3"
  },
  "language_info": {
   "codemirror_mode": {
    "name": "ipython",
    "version": 3
   },
   "file_extension": ".py",
   "mimetype": "text/x-python",
   "name": "python",
   "nbconvert_exporter": "python",
   "pygments_lexer": "ipython3",
   "version": "3.10.4"
  }
 },
 "nbformat": 4,
 "nbformat_minor": 5
}
