{
 "cells": [
  {
   "cell_type": "code",
   "execution_count": 3,
   "id": "8928ab4c",
   "metadata": {},
   "outputs": [
    {
     "name": "stdout",
     "output_type": "stream",
     "text": [
      "Collecting pywhatkit\n",
      "  Downloading pywhatkit-5.4-py3-none-any.whl (15 kB)\n",
      "Requirement already satisfied: requests in /home/md/anaconda3/envs/deep_learning_project/lib/python3.10/site-packages (from pywhatkit) (2.27.1)\n",
      "Collecting Flask\n",
      "  Downloading Flask-2.2.1-py3-none-any.whl (101 kB)\n",
      "\u001b[K     |████████████████████████████████| 101 kB 846 kB/s ta 0:00:01\n",
      "\u001b[?25hCollecting wikipedia\n",
      "  Using cached wikipedia-1.4.0-py3-none-any.whl\n",
      "Requirement already satisfied: Pillow in /home/md/anaconda3/envs/deep_learning_project/lib/python3.10/site-packages (from pywhatkit) (9.1.1)\n",
      "Requirement already satisfied: pyautogui in /home/md/anaconda3/envs/deep_learning_project/lib/python3.10/site-packages (from pywhatkit) (0.9.53)\n",
      "Requirement already satisfied: Jinja2>=3.0 in /home/md/anaconda3/envs/deep_learning_project/lib/python3.10/site-packages (from Flask->pywhatkit) (3.0.3)\n",
      "Requirement already satisfied: click>=8.0 in /home/md/anaconda3/envs/deep_learning_project/lib/python3.10/site-packages (from Flask->pywhatkit) (8.1.3)\n",
      "Collecting itsdangerous>=2.0\n",
      "  Using cached itsdangerous-2.1.2-py3-none-any.whl (15 kB)\n",
      "Collecting Werkzeug>=2.2.0\n",
      "  Using cached Werkzeug-2.2.1-py3-none-any.whl (232 kB)\n",
      "Requirement already satisfied: MarkupSafe>=2.0 in /home/md/anaconda3/envs/deep_learning_project/lib/python3.10/site-packages (from Jinja2>=3.0->Flask->pywhatkit) (2.0.1)\n",
      "Collecting MarkupSafe>=2.0\n",
      "  Using cached MarkupSafe-2.1.1-cp310-cp310-manylinux_2_17_x86_64.manylinux2014_x86_64.whl (25 kB)\n",
      "Requirement already satisfied: python3-Xlib in /home/md/anaconda3/envs/deep_learning_project/lib/python3.10/site-packages (from pyautogui->pywhatkit) (0.15)\n",
      "Requirement already satisfied: pygetwindow>=0.0.5 in /home/md/anaconda3/envs/deep_learning_project/lib/python3.10/site-packages (from pyautogui->pywhatkit) (0.0.9)\n",
      "Requirement already satisfied: mouseinfo in /home/md/anaconda3/envs/deep_learning_project/lib/python3.10/site-packages (from pyautogui->pywhatkit) (0.1.3)\n",
      "Requirement already satisfied: pyscreeze>=0.1.21 in /home/md/anaconda3/envs/deep_learning_project/lib/python3.10/site-packages (from pyautogui->pywhatkit) (0.1.28)\n",
      "Requirement already satisfied: PyTweening>=1.0.1 in /home/md/anaconda3/envs/deep_learning_project/lib/python3.10/site-packages (from pyautogui->pywhatkit) (1.0.4)\n",
      "Requirement already satisfied: pymsgbox in /home/md/anaconda3/envs/deep_learning_project/lib/python3.10/site-packages (from pyautogui->pywhatkit) (1.0.9)\n",
      "Requirement already satisfied: pyrect in /home/md/anaconda3/envs/deep_learning_project/lib/python3.10/site-packages (from pygetwindow>=0.0.5->pyautogui->pywhatkit) (0.2.0)\n",
      "Requirement already satisfied: pyperclip in /home/md/anaconda3/envs/deep_learning_project/lib/python3.10/site-packages (from mouseinfo->pyautogui->pywhatkit) (1.8.2)\n",
      "Requirement already satisfied: certifi>=2017.4.17 in /home/md/anaconda3/envs/deep_learning_project/lib/python3.10/site-packages (from requests->pywhatkit) (2022.6.15)\n",
      "Requirement already satisfied: charset-normalizer~=2.0.0 in /home/md/anaconda3/envs/deep_learning_project/lib/python3.10/site-packages (from requests->pywhatkit) (2.0.4)\n",
      "Requirement already satisfied: urllib3<1.27,>=1.21.1 in /home/md/anaconda3/envs/deep_learning_project/lib/python3.10/site-packages (from requests->pywhatkit) (1.26.9)\n",
      "Requirement already satisfied: idna<4,>=2.5 in /home/md/anaconda3/envs/deep_learning_project/lib/python3.10/site-packages (from requests->pywhatkit) (3.3)\n",
      "Requirement already satisfied: beautifulsoup4 in /home/md/anaconda3/envs/deep_learning_project/lib/python3.10/site-packages (from wikipedia->pywhatkit) (4.11.1)\n",
      "Requirement already satisfied: soupsieve>1.2 in /home/md/anaconda3/envs/deep_learning_project/lib/python3.10/site-packages (from beautifulsoup4->wikipedia->pywhatkit) (2.3.1)\n",
      "Installing collected packages: MarkupSafe, Werkzeug, itsdangerous, wikipedia, Flask, pywhatkit\n",
      "  Attempting uninstall: MarkupSafe\n",
      "    Found existing installation: MarkupSafe 2.0.1\n",
      "    Uninstalling MarkupSafe-2.0.1:\n",
      "      Successfully uninstalled MarkupSafe-2.0.1\n",
      "  Attempting uninstall: Werkzeug\n",
      "    Found existing installation: Werkzeug 2.1.2\n",
      "    Uninstalling Werkzeug-2.1.2:\n",
      "      Successfully uninstalled Werkzeug-2.1.2\n",
      "Successfully installed Flask-2.2.1 MarkupSafe-2.1.1 Werkzeug-2.2.1 itsdangerous-2.1.2 pywhatkit-5.4 wikipedia-1.4.0\n"
     ]
    }
   ],
   "source": [
    "!pip install pywhatkit"
   ]
  },
  {
   "cell_type": "code",
   "execution_count": 5,
   "id": "d80bd40f",
   "metadata": {},
   "outputs": [],
   "source": [
    "import pywhatkit as pw"
   ]
  },
  {
   "cell_type": "code",
   "execution_count": 6,
   "id": "fa10763f",
   "metadata": {},
   "outputs": [],
   "source": [
    "#as a paragraph\n",
    "\n",
    "text = \"\"\"Python is a computer programming language often used to build websites and software, automate tasks,\n",
    "and conduct data analysis. Python is a general-purpose language, meaning it can be used to create a variety of\n",
    "different programs and isn't specialized for any specific problems\"\"\""
   ]
  },
  {
   "cell_type": "code",
   "execution_count": 8,
   "id": "66d04a3b",
   "metadata": {},
   "outputs": [
    {
     "name": "stdout",
     "output_type": "stream",
     "text": [
      "END\n"
     ]
    }
   ],
   "source": [
    "pw.text_to_handwriting(text,\"text.png\",)\n",
    "print(\"END\")"
   ]
  },
  {
   "cell_type": "code",
   "execution_count": null,
   "id": "eee20686",
   "metadata": {},
   "outputs": [],
   "source": []
  }
 ],
 "metadata": {
  "kernelspec": {
   "display_name": "Python 3 (ipykernel)",
   "language": "python",
   "name": "python3"
  },
  "language_info": {
   "codemirror_mode": {
    "name": "ipython",
    "version": 3
   },
   "file_extension": ".py",
   "mimetype": "text/x-python",
   "name": "python",
   "nbconvert_exporter": "python",
   "pygments_lexer": "ipython3",
   "version": "3.10.4"
  }
 },
 "nbformat": 4,
 "nbformat_minor": 5
}
