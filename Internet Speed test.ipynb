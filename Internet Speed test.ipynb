{
 "cells": [
  {
   "cell_type": "code",
   "execution_count": 6,
   "id": "ec3309e4",
   "metadata": {},
   "outputs": [],
   "source": [
    "from tkinter import *\n",
    "import speedtest as stt"
   ]
  },
  {
   "cell_type": "code",
   "execution_count": 5,
   "id": "8773de37",
   "metadata": {},
   "outputs": [
    {
     "name": "stdout",
     "output_type": "stream",
     "text": [
      "Requirement already satisfied: speedtest-cli in /home/md/anaconda3/envs/deep_learning_project/lib/python3.10/site-packages (2.1.3)\n",
      "Note: you may need to restart the kernel to use updated packages.\n"
     ]
    }
   ],
   "source": [
    "pip install speedtest-cli"
   ]
  },
  {
   "cell_type": "code",
   "execution_count": 2,
   "id": "b84323af",
   "metadata": {},
   "outputs": [
    {
     "name": "stderr",
     "output_type": "stream",
     "text": [
      "/home/md/anaconda3/envs/deep_learning_project/lib/python3.10/site-packages/speedtest_cli.py:34: UserWarning: The file speedtest_cli.py has been deprecated in favor of speedtest.py\n",
      "and is available for download at:\n",
      "\n",
      "https://raw.githubusercontent.com/sivel/speedtest-cli/master/speedtest.py\n",
      "  warnings.warn(DEPRECATED_MSG, UserWarning)\n"
     ]
    }
   ],
   "source": [
    "import speedtest_cli as st"
   ]
  },
  {
   "cell_type": "code",
   "execution_count": 7,
   "id": "4de87a94",
   "metadata": {},
   "outputs": [],
   "source": [
    "def checkSpeed():\n",
    "    sp = stt.Speedtest()\n",
    "    sp.get_servers()\n",
    "    download = str(round(sp.download()/(10**6),3))+\"Mbps\"\n",
    "    upload   = str(round(sp.upload()/(10**6),3))+\"Mbps\"\n",
    "    \n",
    "    label_down.config(text=download)\n",
    "    label_up.config(text=upload)\n",
    "    \n",
    "    \n",
    "    "
   ]
  },
  {
   "cell_type": "code",
   "execution_count": 8,
   "id": "cc35ba54",
   "metadata": {},
   "outputs": [
    {
     "name": "stderr",
     "output_type": "stream",
     "text": [
      "Exception in Tkinter callback\n",
      "Traceback (most recent call last):\n",
      "  File \"/home/md/anaconda3/envs/deep_learning_project/lib/python3.10/tkinter/__init__.py\", line 1921, in __call__\n",
      "    return self.func(*args)\n",
      "  File \"/tmp/ipykernel_15490/3102329762.py\", line 2, in checkSpeed\n",
      "    sp = stt.Speedtest()\n",
      "AttributeError: module 'speedtest' has no attribute 'Speedtest'\n"
     ]
    }
   ],
   "source": [
    "sp = Tk()\n",
    "sp.title(\"Internet Speed Tester\")\n",
    "sp.geometry(\"500x500\")\n",
    "sp.config(background=\"#009DC4\")\n",
    "\n",
    "label = Label(sp,text=\"Internet Speed Test\", font=(\"time new roman\",25,\"bold\"),bg=\"#009DC4\",fg=\"white\")\n",
    "label.place(x=55,y=40,height=30,width=380)\n",
    "\n",
    "label = Label(sp,text=\"Downlod Speed\", font=(\"time new roman\",23,\"bold\"),bg=\"#009DC4\")\n",
    "label.place(x=55,y=130,height=50,width=380)\n",
    "\n",
    "label_down = Label(sp,text=\"00\", font=(\"time new roman\",23,\"bold\"))\n",
    "label_down.place(x=55,y=200,height=50,width=380)\n",
    "\n",
    "label = Label(sp,text=\"Upload Speed\", font=(\"time new roman\",23,\"bold\"),bg=\"#009DC4\")\n",
    "label.place(x=55,y=290,height=50,width=380)\n",
    "\n",
    "label_up = Label(sp,text=\"00\", font=(\"time new roman\",23,\"bold\"))\n",
    "label_up.place(x=55,y=360,height=50,width=380)\n",
    "\n",
    "#button\n",
    "\n",
    "button = Button(sp,text=\"TEST SPEED\" ,font=(\"time new roman\",23,\"bold\"),relief=RAISED,bg=\"#D3F7FF\",cursor=\"plus\",command=checkSpeed)\n",
    "button.place(x=55,y=445,height=45,width=380)\n",
    "\n",
    "sp.mainloop()"
   ]
  },
  {
   "cell_type": "code",
   "execution_count": null,
   "id": "9abc13bd",
   "metadata": {},
   "outputs": [],
   "source": [
    "sp"
   ]
  }
 ],
 "metadata": {
  "kernelspec": {
   "display_name": "Python 3 (ipykernel)",
   "language": "python",
   "name": "python3"
  },
  "language_info": {
   "codemirror_mode": {
    "name": "ipython",
    "version": 3
   },
   "file_extension": ".py",
   "mimetype": "text/x-python",
   "name": "python",
   "nbconvert_exporter": "python",
   "pygments_lexer": "ipython3",
   "version": "3.10.4"
  }
 },
 "nbformat": 4,
 "nbformat_minor": 5
}
