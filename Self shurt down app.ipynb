{
 "cells": [
  {
   "cell_type": "code",
   "execution_count": 1,
   "id": "292a0091",
   "metadata": {},
   "outputs": [],
   "source": [
    "import os\n",
    "from tkinter import *\n"
   ]
  },
  {
   "cell_type": "code",
   "execution_count": 2,
   "id": "257cdb3e",
   "metadata": {},
   "outputs": [],
   "source": [
    "def restart():\n",
    "    os.system(\"shutdown /r /t 1\")\n",
    "    \n",
    "def resrart_time():\n",
    "    os.system(\"shutdown /r /t 20\")\n",
    "    \n",
    "def log_out():\n",
    "    os.system(\"shutdown -1\")\n",
    "    \n",
    "def shurtdown():\n",
    "    os.system(\"shutdown /s /t 1\")\n",
    "\n",
    "st = Tk()\n",
    "\n",
    "st.title(\"ShurtDown App\")\n",
    "st.geometry(\"500x500\")\n",
    "st.config(bg=\"#002B4D\")\n",
    "\n",
    "#Buttons------>\n",
    "\n",
    "restart_button = Button(st,text = \"Restart\", font=(\"time new roman\",30,\"bold\"),relief=RAISED , \n",
    "                        cursor=\"plus\",command=restart)\n",
    "restart_button.place(x=160,y=60,width=200,height=40)\n",
    "\n",
    "restartTime_button = Button(st,text = \"Restart Time\", font=(\"time new roman\",18,\"bold\"),relief=RAISED ,\n",
    "                            cursor=\"plus\",command=resrart_time)\n",
    "restartTime_button.place(x=160,y=160,width=200,height=40)\n",
    "\n",
    "logOut_button = Button(st,text = \"Log-Out\", font=(\"time new roman\",18,\"bold\"),relief=RAISED ,\n",
    "                       cursor=\"plus\",command=log_out)\n",
    "logOut_button.place(x=160,y=260,width=200,height=40)\n",
    "\n",
    "shurtDown_button = Button(st,text = \"ShurtDown\", font=(\"time new roman\",18,\"bold\"),relief=RAISED , \n",
    "                          cursor=\"plus\",command=shurtdown)\n",
    "shurtDown_button.place(x=160,y=360,width=200,height=40)\n",
    "\n",
    "\n",
    "st.mainloop()"
   ]
  },
  {
   "cell_type": "code",
   "execution_count": null,
   "id": "d08f663d",
   "metadata": {},
   "outputs": [],
   "source": []
  }
 ],
 "metadata": {
  "kernelspec": {
   "display_name": "Python 3 (ipykernel)",
   "language": "python",
   "name": "python3"
  },
  "language_info": {
   "codemirror_mode": {
    "name": "ipython",
    "version": 3
   },
   "file_extension": ".py",
   "mimetype": "text/x-python",
   "name": "python",
   "nbconvert_exporter": "python",
   "pygments_lexer": "ipython3",
   "version": "3.10.4"
  }
 },
 "nbformat": 4,
 "nbformat_minor": 5
}
