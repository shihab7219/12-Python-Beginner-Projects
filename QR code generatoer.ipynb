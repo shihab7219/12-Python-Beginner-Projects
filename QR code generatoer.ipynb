{
 "cells": [
  {
   "cell_type": "code",
   "execution_count": 4,
   "id": "cdd4ae7b",
   "metadata": {},
   "outputs": [
    {
     "name": "stdout",
     "output_type": "stream",
     "text": [
      "Collecting qrcode\n",
      "  Downloading qrcode-7.3.1.tar.gz (43 kB)\n",
      "\u001b[K     |████████████████████████████████| 43 kB 487 kB/s eta 0:00:01\n",
      "\u001b[?25hBuilding wheels for collected packages: qrcode\n",
      "  Building wheel for qrcode (setup.py) ... \u001b[?25ldone\n",
      "\u001b[?25h  Created wheel for qrcode: filename=qrcode-7.3.1-py3-none-any.whl size=40401 sha256=42af7c411fbcf33da6cea5bdaa3180a3a09d709597cfcef95d90995e9c4971f2\n",
      "  Stored in directory: /home/md/.cache/pip/wheels/23/19/46/913659e1fa8df0e197598601997735938c703cac15d98a6e6d\n",
      "Successfully built qrcode\n",
      "Installing collected packages: qrcode\n",
      "Successfully installed qrcode-7.3.1\n"
     ]
    }
   ],
   "source": [
    "!pip3 install qrcode"
   ]
  },
  {
   "cell_type": "code",
   "execution_count": 8,
   "id": "af2597f5",
   "metadata": {},
   "outputs": [],
   "source": [
    "#Normal Process\n",
    "\n",
    "import qrcode as qr\n",
    "\n",
    "imgs = qr.make(\"https://github.com/shihab7219\")\n",
    "imgs.save(\"ms_Github.png\")"
   ]
  },
  {
   "cell_type": "code",
   "execution_count": null,
   "id": "9a7a5909",
   "metadata": {},
   "outputs": [],
   "source": []
  }
 ],
 "metadata": {
  "kernelspec": {
   "display_name": "Python 3 (ipykernel)",
   "language": "python",
   "name": "python3"
  },
  "language_info": {
   "codemirror_mode": {
    "name": "ipython",
    "version": 3
   },
   "file_extension": ".py",
   "mimetype": "text/x-python",
   "name": "python",
   "nbconvert_exporter": "python",
   "pygments_lexer": "ipython3",
   "version": "3.10.4"
  }
 },
 "nbformat": 4,
 "nbformat_minor": 5
}
