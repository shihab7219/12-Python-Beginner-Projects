{
 "cells": [
  {
   "cell_type": "code",
   "execution_count": 1,
   "id": "4604caa3",
   "metadata": {},
   "outputs": [],
   "source": [
    "import re "
   ]
  },
  {
   "cell_type": "code",
   "execution_count": 6,
   "id": "cac5cd50",
   "metadata": {},
   "outputs": [
    {
     "name": "stdout",
     "output_type": "stream",
     "text": [
      "Enter Your email : shihab@gmail.com\n",
      "Valid Email\n"
     ]
    }
   ],
   "source": [
    "emailCondition = \"^[a-z]+[\\._]?[a-z 0-9]+[@]\\w+[.]\\w{2,3}$\"\n",
    "\n",
    "email = input(\"Enter Your email : \")\n",
    "\n",
    "if re.search(emailCondition,email):\n",
    "    print(\"Valid Email\")\n",
    "else:\n",
    "    print(\"worng email\")"
   ]
  },
  {
   "cell_type": "code",
   "execution_count": 9,
   "id": "4d8e7023",
   "metadata": {},
   "outputs": [],
   "source": [
    "def CheckEmail():\n",
    "    \n",
    "    emailCondition = \"^[a-z]+[\\._]?[a-z 0-9]+[@]\\w+[.]\\w{2,3}$\"\n",
    "\n",
    "    email = input(\"Enter Your email : \")\n",
    "\n",
    "    if re.search(emailCondition,email):\n",
    "        print(\"Valid Email\")\n",
    "    else:\n",
    "        print(\"worng email\")"
   ]
  },
  {
   "cell_type": "code",
   "execution_count": 10,
   "id": "1a9e87b4",
   "metadata": {},
   "outputs": [
    {
     "name": "stdout",
     "output_type": "stream",
     "text": [
      "Enter Your email : 1shihab@gmail.com\n",
      "worng email\n"
     ]
    }
   ],
   "source": [
    "CheckEmail()"
   ]
  },
  {
   "cell_type": "code",
   "execution_count": null,
   "id": "2e278436",
   "metadata": {},
   "outputs": [],
   "source": []
  }
 ],
 "metadata": {
  "kernelspec": {
   "display_name": "Python 3 (ipykernel)",
   "language": "python",
   "name": "python3"
  },
  "language_info": {
   "codemirror_mode": {
    "name": "ipython",
    "version": 3
   },
   "file_extension": ".py",
   "mimetype": "text/x-python",
   "name": "python",
   "nbconvert_exporter": "python",
   "pygments_lexer": "ipython3",
   "version": "3.10.4"
  }
 },
 "nbformat": 4,
 "nbformat_minor": 5
}
