{
 "cells": [
  {
   "cell_type": "code",
   "execution_count": null,
   "id": "4e82ee38",
   "metadata": {},
   "outputs": [],
   "source": [
    "#Email Validation Using String Functions"
   ]
  },
  {
   "cell_type": "code",
   "execution_count": 11,
   "id": "46d2ab27",
   "metadata": {},
   "outputs": [
    {
     "name": "stdout",
     "output_type": "stream",
     "text": [
      "Enter Your Email Here : shihab357@gamil.com\n",
      "Right Email\n"
     ]
    }
   ],
   "source": [
    "email = input(\"Enter Your Email Here : \")\n",
    "k = 0\n",
    "j = 0\n",
    "d = 0\n",
    "if len(email)>=6:\n",
    "    if email[0].isalpha():\n",
    "        if (\"@\" in email) and (email.count(\"@\")==1):\n",
    "            if (email[-4] ==\".\") ^ (email[-3] ==\".\"):\n",
    "                for i in email:\n",
    "                    if i== i.isspace:\n",
    "                        k = 1\n",
    "                    elif i.isalpha():\n",
    "                        if i==i.upper():\n",
    "                            j = 1\n",
    "                    elif i.isdigit():\n",
    "                        continue\n",
    "                    elif i==\"_\" or i==\".\" or i==\"@\":\n",
    "                        continue\n",
    "                    else:\n",
    "                        d = 1\n",
    "                    \n",
    "                if k==1 or j==1 or d==1:\n",
    "                    print(\"Worng Email---> 5\")\n",
    "                else:\n",
    "                    print(\"Right Email\")\n",
    "                    \n",
    "            else:\n",
    "                print(\"Worng Email ---> 4\")\n",
    "        else:\n",
    "            print(\"Worng Email---> 3\")\n",
    "    else:\n",
    "        print(\"Worng Email ----> 2\")        \n",
    "else:\n",
    "    print(\"Worng email----> 1\")"
   ]
  },
  {
   "cell_type": "code",
   "execution_count": null,
   "id": "13fe0d1b",
   "metadata": {},
   "outputs": [],
   "source": [
    "#Email Validation Using python RegEx"
   ]
  },
  {
   "cell_type": "code",
   "execution_count": null,
   "id": "512d30e4",
   "metadata": {},
   "outputs": [],
   "source": []
  }
 ],
 "metadata": {
  "kernelspec": {
   "display_name": "Python 3 (ipykernel)",
   "language": "python",
   "name": "python3"
  },
  "language_info": {
   "codemirror_mode": {
    "name": "ipython",
    "version": 3
   },
   "file_extension": ".py",
   "mimetype": "text/x-python",
   "name": "python",
   "nbconvert_exporter": "python",
   "pygments_lexer": "ipython3",
   "version": "3.10.4"
  }
 },
 "nbformat": 4,
 "nbformat_minor": 5
}
