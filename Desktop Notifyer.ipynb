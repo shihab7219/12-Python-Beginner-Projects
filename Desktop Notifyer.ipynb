{
 "cells": [
  {
   "cell_type": "code",
   "execution_count": null,
   "id": "9910ef99",
   "metadata": {},
   "outputs": [],
   "source": [
    "#Break notifyer 45 minute"
   ]
  },
  {
   "cell_type": "code",
   "execution_count": 1,
   "id": "f5e94163",
   "metadata": {},
   "outputs": [
    {
     "name": "stdout",
     "output_type": "stream",
     "text": [
      "Collecting plyer\n",
      "  Downloading plyer-2.0.0-py2.py3-none-any.whl (131 kB)\n",
      "\u001b[K     |████████████████████████████████| 131 kB 729 kB/s eta 0:00:01\n",
      "\u001b[?25hInstalling collected packages: plyer\n",
      "Successfully installed plyer-2.0.0\n"
     ]
    }
   ],
   "source": [
    "!pip install plyer"
   ]
  },
  {
   "cell_type": "code",
   "execution_count": 25,
   "id": "b8fc6223",
   "metadata": {},
   "outputs": [],
   "source": [
    "import plyer.platforms.linux.notification "
   ]
  },
  {
   "cell_type": "code",
   "execution_count": 3,
   "id": "222e5c23",
   "metadata": {},
   "outputs": [],
   "source": [
    "from plyer import notification\n",
    "import time"
   ]
  },
  {
   "cell_type": "code",
   "execution_count": 5,
   "id": "89fcb824",
   "metadata": {},
   "outputs": [
    {
     "name": "stderr",
     "output_type": "stream",
     "text": [
      "Unknown option ----> Take a Break Sir <----\n",
      "Unknown option ----> Take a Break Sir <----\n"
     ]
    },
    {
     "ename": "KeyboardInterrupt",
     "evalue": "",
     "output_type": "error",
     "traceback": [
      "\u001b[0;31m---------------------------------------------------------------------------\u001b[0m",
      "\u001b[0;31mKeyboardInterrupt\u001b[0m                         Traceback (most recent call last)",
      "Input \u001b[0;32mIn [5]\u001b[0m, in \u001b[0;36m<cell line: 4>\u001b[0;34m()\u001b[0m\n\u001b[1;32m      5\u001b[0m \u001b[38;5;28;01mwhile\u001b[39;00m \u001b[38;5;28;01mTrue\u001b[39;00m:\n\u001b[1;32m      6\u001b[0m     notification\u001b[38;5;241m.\u001b[39mnotify(\n\u001b[1;32m      7\u001b[0m         title\u001b[38;5;241m=\u001b[39m\u001b[38;5;124m\"\u001b[39m\u001b[38;5;124m----> Take a Break Sir <----\u001b[39m\u001b[38;5;124m\"\u001b[39m,\n\u001b[1;32m      8\u001b[0m         message\u001b[38;5;241m=\u001b[39m\u001b[38;5;124m\"\u001b[39m\u001b[38;5;124mRest is vital for better mental health, increased concentration and memory, a healthier immune system, reduced stress, improved mood and even a better metabolism.\u001b[39m\u001b[38;5;124m\"\u001b[39m,\n\u001b[1;32m      9\u001b[0m         app_icon\u001b[38;5;241m=\u001b[39m \u001b[38;5;124m\"\u001b[39m\u001b[38;5;124mbreak.jpg\u001b[39m\u001b[38;5;124m\"\u001b[39m,\n\u001b[1;32m     10\u001b[0m         timeout\u001b[38;5;241m=\u001b[39m\u001b[38;5;241m5\u001b[39m,\n\u001b[1;32m     11\u001b[0m         )\n\u001b[0;32m---> 12\u001b[0m     \u001b[43mtime\u001b[49m\u001b[38;5;241;43m.\u001b[39;49m\u001b[43msleep\u001b[49m\u001b[43m(\u001b[49m\u001b[38;5;241;43m10\u001b[39;49m\u001b[43m)\u001b[49m\n",
      "\u001b[0;31mKeyboardInterrupt\u001b[0m: "
     ]
    }
   ],
   "source": [
    "from plyer import notification as n\n",
    "import time\n",
    "\n",
    "if __name__ == '__main__':\n",
    "    while True:\n",
    "        notification.notify(\n",
    "            title=\"----> Take a Break Sir <----\",\n",
    "            message=\"Rest is vital for better mental health, increased concentration and memory, a healthier immune system, reduced stress, improved mood and even a better metabolism.\",\n",
    "            app_icon= \"break.jpg\",\n",
    "            timeout=5,\n",
    "            )\n",
    "        time.sleep(10)\n",
    "\n",
    "\n",
    "\n"
   ]
  },
  {
   "cell_type": "code",
   "execution_count": null,
   "id": "70a8b3b1",
   "metadata": {},
   "outputs": [],
   "source": []
  }
 ],
 "metadata": {
  "kernelspec": {
   "display_name": "Python 3 (ipykernel)",
   "language": "python",
   "name": "python3"
  },
  "language_info": {
   "codemirror_mode": {
    "name": "ipython",
    "version": 3
   },
   "file_extension": ".py",
   "mimetype": "text/x-python",
   "name": "python",
   "nbconvert_exporter": "python",
   "pygments_lexer": "ipython3",
   "version": "3.10.4"
  }
 },
 "nbformat": 4,
 "nbformat_minor": 5
}
