{
 "cells": [
  {
   "cell_type": "code",
   "execution_count": 9,
   "id": "e5e363f7",
   "metadata": {},
   "outputs": [
    {
     "name": "stdout",
     "output_type": "stream",
     "text": [
      "Requirement already satisfied: qrcode in /home/md/anaconda3/envs/deep_learning_project/lib/python3.10/site-packages (7.3.1)\r\n"
     ]
    }
   ],
   "source": [
    "!pip3 install qrcode"
   ]
  },
  {
   "cell_type": "code",
   "execution_count": 8,
   "id": "4cac950b",
   "metadata": {},
   "outputs": [],
   "source": [
    "#Normal Process\n",
    "\n",
    "import qrcode as qr\n",
    "\n",
    "imgs = qr.make(\"https://github.com/shihab7219\")\n",
    "imgs.save(\"ms_Github.png\")"
   ]
  },
  {
   "cell_type": "code",
   "execution_count": 11,
   "id": "c8a7506f",
   "metadata": {},
   "outputs": [],
   "source": [
    "#Advance Process\n",
    "\n",
    "from PIL import Image\n",
    "\n",
    "QR = qrcode.QRCode(version=1,\n",
    "                  error_correction=qrcode.constants.ERROR_CORRECT_H,\n",
    "                  box_size=12,border=4\n",
    "                  )\n",
    "\n",
    "QR.add_data(\"https://www.linkedin.com/in/md--shihab/\")\n",
    "\n",
    "QR.make(fit=True)\n",
    "\n",
    "image = QR.make_image(fill_color=\"white\",back_color = \"#002B4D\")\n",
    "\n",
    "image.save(\"ms_Linkedin.png\")"
   ]
  },
  {
   "cell_type": "code",
   "execution_count": null,
   "id": "decb7d73",
   "metadata": {},
   "outputs": [],
   "source": []
  }
 ],
 "metadata": {
  "kernelspec": {
   "display_name": "Python 3 (ipykernel)",
   "language": "python",
   "name": "python3"
  },
  "language_info": {
   "codemirror_mode": {
    "name": "ipython",
    "version": 3
   },
   "file_extension": ".py",
   "mimetype": "text/x-python",
   "name": "python",
   "nbconvert_exporter": "python",
   "pygments_lexer": "ipython3",
   "version": "3.10.4"
  }
 },
 "nbformat": 4,
 "nbformat_minor": 5
}
