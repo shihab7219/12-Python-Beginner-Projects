{
 "cells": [
  {
   "cell_type": "code",
   "execution_count": 1,
   "id": "ec6867c9",
   "metadata": {},
   "outputs": [
    {
     "name": "stdout",
     "output_type": "stream",
     "text": [
      "Collecting skpy\n",
      "  Downloading SkPy-0.10.4.tar.gz (43 kB)\n",
      "\u001b[K     |████████████████████████████████| 43 kB 674 kB/s eta 0:00:01\n",
      "\u001b[?25hRequirement already satisfied: beautifulsoup4 in /home/md/anaconda3/envs/deep_learning_project/lib/python3.10/site-packages (from skpy) (4.11.1)\n",
      "Requirement already satisfied: requests in /home/md/anaconda3/envs/deep_learning_project/lib/python3.10/site-packages (from skpy) (2.27.1)\n",
      "Requirement already satisfied: soupsieve>1.2 in /home/md/anaconda3/envs/deep_learning_project/lib/python3.10/site-packages (from beautifulsoup4->skpy) (2.3.1)\n",
      "Requirement already satisfied: charset-normalizer~=2.0.0 in /home/md/anaconda3/envs/deep_learning_project/lib/python3.10/site-packages (from requests->skpy) (2.0.4)\n",
      "Requirement already satisfied: certifi>=2017.4.17 in /home/md/anaconda3/envs/deep_learning_project/lib/python3.10/site-packages (from requests->skpy) (2022.6.15)\n",
      "Requirement already satisfied: urllib3<1.27,>=1.21.1 in /home/md/anaconda3/envs/deep_learning_project/lib/python3.10/site-packages (from requests->skpy) (1.26.9)\n",
      "Requirement already satisfied: idna<4,>=2.5 in /home/md/anaconda3/envs/deep_learning_project/lib/python3.10/site-packages (from requests->skpy) (3.3)\n",
      "Building wheels for collected packages: skpy\n",
      "  Building wheel for skpy (setup.py) ... \u001b[?25ldone\n",
      "\u001b[?25h  Created wheel for skpy: filename=SkPy-0.10.4-py3-none-any.whl size=47343 sha256=657f840a2ee88a80d8c12dcae48265ce695748f0352ac2ddd29eeb0e3b5ae43d\n",
      "  Stored in directory: /home/md/.cache/pip/wheels/27/79/95/8d8229e8e1006d00dcc97457ce36c5d911857502a7462284e2\n",
      "Successfully built skpy\n",
      "Installing collected packages: skpy\n",
      "Successfully installed skpy-0.10.4\n"
     ]
    }
   ],
   "source": [
    "!pip install skpy"
   ]
  },
  {
   "cell_type": "code",
   "execution_count": 2,
   "id": "8e736f31",
   "metadata": {},
   "outputs": [],
   "source": [
    "from skpy import Skype"
   ]
  },
  {
   "cell_type": "code",
   "execution_count": null,
   "id": "93f5c259",
   "metadata": {},
   "outputs": [],
   "source": [
    "#Login\n",
    "\n",
    "skype_login = Skype(\"mail id\",\"password\")\n",
    "\n",
    "#See contact list info\n",
    "\n",
    "contact = skype_login.contacts[\"pest user id here \"]\n",
    "\n",
    "for i in contact:\n",
    "    print(i)\n",
    "    \n",
    "#send message\n",
    "\n",
    "contact.chat.sendMsg(\"Type your message\")\n",
    "\n"
   ]
  },
  {
   "cell_type": "code",
   "execution_count": null,
   "id": "e2d7e47f",
   "metadata": {},
   "outputs": [],
   "source": [
    "#send picture \n",
    "import os.path \n",
    "\n",
    "contact = skype_login.contacts[\"pest user id here \"]\n",
    "\n",
    "#Access image file \n",
    "with open(\"pest image path here \",\"rb\") as f:\n",
    "    contact.chat.sendFile(f,\"file.png\",image=True)\n",
    "\n",
    "\n"
   ]
  },
  {
   "cell_type": "code",
   "execution_count": null,
   "id": "9eba9be6",
   "metadata": {},
   "outputs": [],
   "source": [
    "#Create Group\n",
    "\n",
    "group = skype_login.chats.create([\"pest your friend user id\"])"
   ]
  }
 ],
 "metadata": {
  "kernelspec": {
   "display_name": "Python 3 (ipykernel)",
   "language": "python",
   "name": "python3"
  },
  "language_info": {
   "codemirror_mode": {
    "name": "ipython",
    "version": 3
   },
   "file_extension": ".py",
   "mimetype": "text/x-python",
   "name": "python",
   "nbconvert_exporter": "python",
   "pygments_lexer": "ipython3",
   "version": "3.10.4"
  }
 },
 "nbformat": 4,
 "nbformat_minor": 5
}
