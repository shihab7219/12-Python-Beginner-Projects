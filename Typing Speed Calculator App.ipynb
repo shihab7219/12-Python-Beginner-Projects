{
 "cells": [
  {
   "cell_type": "code",
   "execution_count": 1,
   "id": "db86145b",
   "metadata": {},
   "outputs": [],
   "source": [
    "from time import *\n",
    "import random as rd"
   ]
  },
  {
   "cell_type": "code",
   "execution_count": 2,
   "id": "7b378e83",
   "metadata": {},
   "outputs": [],
   "source": [
    "def mistake(paraText,userText):\n",
    "    error = 0\n",
    "    for i in range(len(paraText)):\n",
    "        \n",
    "        try:\n",
    "            if paraText[i]!=userText[i]:\n",
    "                error+=1\n",
    "        except:\n",
    "            error+=1\n",
    "            \n",
    "    return error"
   ]
  },
  {
   "cell_type": "code",
   "execution_count": 3,
   "id": "6ff413ac",
   "metadata": {},
   "outputs": [],
   "source": [
    "def speed_time(start_time,end_time,user_input):\n",
    "    \n",
    "    time_dealy = end_time-start_time\n",
    "    time_rot = round(time_dealy,2)\n",
    "    speed = len(user_input)/time_rot\n",
    "    \n",
    "    return round(speed)\n",
    "    "
   ]
  },
  {
   "cell_type": "code",
   "execution_count": null,
   "id": "20ba54b2",
   "metadata": {},
   "outputs": [
    {
     "name": "stdout",
     "output_type": "stream",
     "text": [
      "------>Typing speed<-----\n",
      "A rose by any other name would smell as sweet\n",
      "\n",
      "\n",
      "\n",
      "\n"
     ]
    }
   ],
   "source": [
    "text = [\"Never stop dreaming, even if it doesn't come true\", \"A rose by any other name would smell as sweet\",\"All that glitters is not gold\"]\n",
    "\n",
    "text1 = rd.choice(text)\n",
    "print(\"------>Typing speed<-----\")\n",
    "print(text1)\n",
    "print(\"\\n\")\n",
    "print(\"\\n\")\n",
    "\n",
    "time1 = time()\n",
    "textInput = input(\"Please Enter : \")\n",
    "time2 = time()\n",
    "\n",
    "print(f\"Speed :---> {speed_time(time1,time2,textInput)} w/sec\")\n",
    "print(f\"Error :---> {mistake(text1,textInput)} \")\n"
   ]
  },
  {
   "cell_type": "code",
   "execution_count": 4,
   "id": "19a84592",
   "metadata": {},
   "outputs": [
    {
     "name": "stdout",
     "output_type": "stream",
     "text": [
      "Ready to test : Yes / no : no\n",
      "Thanks for using this program\n"
     ]
    }
   ],
   "source": [
    "#Anathor way\n",
    "while True:\n",
    "    check = input(\"Ready to test : Yes / no : \")\n",
    "    if check==\"Yes\":\n",
    "        \n",
    "        text = [\"Never stop dreaming, even if it doesn't come true\", \"A rose by any other name would smell as sweet\",\"All that glitters is not gold\"]\n",
    "\n",
    "        text1 = rd.choice(text)\n",
    "        print(\"------>Typing speed tester<-----\")\n",
    "        print(text1)\n",
    "        print(\"\\n\")\n",
    "        print(\"\\n\")\n",
    "\n",
    "        time1 = time()\n",
    "        textInput = input(\"Please Enter : \")\n",
    "        time2 = time()\n",
    "\n",
    "        print(f\"Speed :---> {speed_time(time1,time2,textInput)} w/sec\")\n",
    "        print(f\"Error :---> {mistake(text1,textInput)} \")\n",
    "        \n",
    "    elif check==\"no\":\n",
    "        print(\"Thanks for using this program\")\n",
    "        break\n",
    "        \n",
    "    else:\n",
    "        print(\"Invalid Input please input : Yes or no \")\n"
   ]
  },
  {
   "cell_type": "code",
   "execution_count": null,
   "id": "5801079b",
   "metadata": {},
   "outputs": [],
   "source": []
  }
 ],
 "metadata": {
  "kernelspec": {
   "display_name": "Python 3 (ipykernel)",
   "language": "python",
   "name": "python3"
  },
  "language_info": {
   "codemirror_mode": {
    "name": "ipython",
    "version": 3
   },
   "file_extension": ".py",
   "mimetype": "text/x-python",
   "name": "python",
   "nbconvert_exporter": "python",
   "pygments_lexer": "ipython3",
   "version": "3.10.4"
  }
 },
 "nbformat": 4,
 "nbformat_minor": 5
}
